{
 "cells": [
  {
   "cell_type": "code",
   "execution_count": 1,
   "metadata": {},
   "outputs": [
    {
     "data": {
      "text/html": [
       "\n",
       "        <div>\n",
       "            <p><b>SparkContext</b></p>\n",
       "\n",
       "            <p><a href=\"http://10.18.40.200:4040\">Spark UI</a></p>\n",
       "\n",
       "            <dl>\n",
       "              <dt>Version</dt>\n",
       "                <dd><code>v2.4.0</code></dd>\n",
       "              <dt>Master</dt>\n",
       "                <dd><code>local[*]</code></dd>\n",
       "              <dt>AppName</dt>\n",
       "                <dd><code>pyspark-shell</code></dd>\n",
       "            </dl>\n",
       "        </div>\n",
       "        "
      ],
      "text/plain": [
       "<SparkContext master=local[*] appName=pyspark-shell>"
      ]
     },
     "execution_count": 1,
     "metadata": {},
     "output_type": "execute_result"
    }
   ],
   "source": [
    "sc"
   ]
  },
  {
   "cell_type": "code",
   "execution_count": 2,
   "metadata": {},
   "outputs": [],
   "source": [
    "taxi = sc.textFile('yellow.csv.gz')\n",
    "bike = sc.textFile('citibike.csv')"
   ]
  },
  {
   "cell_type": "code",
   "execution_count": 3,
   "metadata": {},
   "outputs": [
    {
     "data": {
      "text/plain": [
       "[(0, 'cartodb_id'),\n",
       " (1, 'the_geom'),\n",
       " (2, 'tripduration'),\n",
       " (3, 'starttime'),\n",
       " (4, 'stoptime'),\n",
       " (5, 'start_station_id'),\n",
       " (6, 'start_station_name'),\n",
       " (7, 'start_station_latitude'),\n",
       " (8, 'start_station_longitude'),\n",
       " (9, 'end_station_id'),\n",
       " (10, 'end_station_name'),\n",
       " (11, 'end_station_latitude'),\n",
       " (12, 'end_station_longitude'),\n",
       " (13, 'bikeid'),\n",
       " (14, 'usertype'),\n",
       " (15, 'birth_year'),\n",
       " (16, 'gender')]"
      ]
     },
     "execution_count": 3,
     "metadata": {},
     "output_type": "execute_result"
    }
   ],
   "source": [
    "list(enumerate(bike.first().split(',')))"
   ]
  },
  {
   "cell_type": "code",
   "execution_count": 4,
   "metadata": {},
   "outputs": [
    {
     "data": {
      "text/plain": [
       "[(0, 'tpep_pickup_datetime'),\n",
       " (1, 'tpep_dropoff_datetime'),\n",
       " (2, 'pickup_latitude'),\n",
       " (3, 'pickup_longitude'),\n",
       " (4, 'dropoff_latitude'),\n",
       " (5, 'dropoff_longitude')]"
      ]
     },
     "execution_count": 4,
     "metadata": {},
     "output_type": "execute_result"
    }
   ],
   "source": [
    "list(enumerate(taxi.first().split(',')))"
   ]
  },
  {
   "cell_type": "code",
   "execution_count": 16,
   "metadata": {},
   "outputs": [],
   "source": [
    "def filterBike(records):\n",
    "    for record in records:\n",
    "        fields = record.split(',')\n",
    "        if (fields[6]=='Greenwich Ave & 8 Ave' and \n",
    "            fields[3].startswith('2015-02-01')):\n",
    "            yield (fields[3][:19], 1)\n",
    "\n",
    "matchedBike = bike.mapPartitions(filterBike)"
   ]
  },
  {
   "cell_type": "code",
   "execution_count": 17,
   "metadata": {},
   "outputs": [
    {
     "data": {
      "text/plain": [
       "[('2015-02-01 00:05:00', 1), ('2015-02-01 00:05:00', 1)]"
      ]
     },
     "execution_count": 17,
     "metadata": {},
     "output_type": "execute_result"
    }
   ],
   "source": [
    "matchedBike.take(2)"
   ]
  },
  {
   "cell_type": "code",
   "execution_count": 18,
   "metadata": {},
   "outputs": [],
   "source": [
    "bikeStation = (-74.00263761, 40.73901691)"
   ]
  },
  {
   "cell_type": "code",
   "execution_count": 25,
   "metadata": {},
   "outputs": [
    {
     "data": {
      "text/plain": [
       "7278"
      ]
     },
     "execution_count": 25,
     "metadata": {},
     "output_type": "execute_result"
    }
   ],
   "source": [
    "def filterTaxi(pid, lines):\n",
    "    if pid==0:\n",
    "        next(lines)\n",
    "    import pyproj\n",
    "    proj = pyproj.Proj(init=\"epsg:2263\", preserve_units=True)\n",
    "    station = proj(-74.00263761, 40.73901691)\n",
    "    squared_radius = 1320**2\n",
    "    for trip in lines:\n",
    "            fields = trip.split(',')\n",
    "            if 'NULL' in fields[4:6]: continue\n",
    "            dropoff = proj(fields[5], fields[4])\n",
    "            squared_distance = (dropoff[0]-station[0])**2 + (dropoff[1]-station[1])**2\n",
    "            if (fields[1].startswith('2015-02-01') and\n",
    "                squared_distance <= squared_radius):\n",
    "                yield (fields[1][:19], 0)\n",
    "\n",
    "matchedTaxi = taxi.mapPartitionsWithIndex(filterTaxi)\n",
    "matchedTaxi.count()"
   ]
  },
  {
   "cell_type": "code",
   "execution_count": 20,
   "metadata": {},
   "outputs": [
    {
     "data": {
      "text/plain": [
       "[('2015-02-01 00:11:03', 0), ('2015-02-01 00:10:23', 0)]"
      ]
     },
     "execution_count": 20,
     "metadata": {},
     "output_type": "execute_result"
    }
   ],
   "source": [
    "matchedTaxi.take(2)"
   ]
  },
  {
   "cell_type": "code",
   "execution_count": 22,
   "metadata": {},
   "outputs": [],
   "source": [
    "allTrips = (matchedBike+matchedTaxi).sortByKey().cache()"
   ]
  },
  {
   "cell_type": "code",
   "execution_count": 30,
   "metadata": {},
   "outputs": [
    {
     "data": {
      "text/plain": [
       "65"
      ]
     },
     "execution_count": 30,
     "metadata": {},
     "output_type": "execute_result"
    }
   ],
   "source": [
    "def connectTrips(_, records):\n",
    "    import datetime\n",
    "    lastTaxiTime = None\n",
    "    count = 0\n",
    "    for dt,mode in records:\n",
    "        t = datetime.datetime.strptime(dt, '%Y-%m-%d %H:%M:%S')\n",
    "        if mode==1:\n",
    "            if lastTaxiTime!=None:\n",
    "                diff = (t-lastTaxiTime).total_seconds()\n",
    "                if diff>=0 and diff<=600:\n",
    "                    count += 1\n",
    "        else:\n",
    "            lastTaxiTime = t\n",
    "    yield(count)\n",
    "\n",
    "allTrips.mapPartitionsWithIndex(connectTrips).reduce(lambda x,y: x+y)"
   ]
  },
  {
   "cell_type": "code",
   "execution_count": 35,
   "metadata": {},
   "outputs": [
    {
     "name": "stdout",
     "output_type": "stream",
     "text": [
      "+-------------------+----+\n",
      "|               time|mode|\n",
      "+-------------------+----+\n",
      "|2015-02-01 00:03:12|   0|\n",
      "|2015-02-01 00:04:39|   0|\n",
      "|2015-02-01 00:05:00|   1|\n",
      "|2015-02-01 00:05:00|   1|\n",
      "|2015-02-01 00:05:38|   0|\n",
      "|2015-02-01 00:06:15|   0|\n",
      "|2015-02-01 00:07:07|   0|\n",
      "|2015-02-01 00:07:29|   0|\n",
      "|2015-02-01 00:07:57|   0|\n",
      "|2015-02-01 00:08:56|   0|\n",
      "|2015-02-01 00:08:57|   0|\n",
      "|2015-02-01 00:09:17|   0|\n",
      "|2015-02-01 00:09:52|   0|\n",
      "|2015-02-01 00:10:12|   0|\n",
      "|2015-02-01 00:10:14|   0|\n",
      "|2015-02-01 00:10:23|   0|\n",
      "|2015-02-01 00:10:34|   0|\n",
      "|2015-02-01 00:10:56|   0|\n",
      "|2015-02-01 00:11:01|   0|\n",
      "|2015-02-01 00:11:02|   0|\n",
      "+-------------------+----+\n",
      "only showing top 20 rows\n",
      "\n"
     ]
    }
   ],
   "source": [
    "dfAll = sqlContext.createDataFrame(allTrips, ('time', 'mode'))\n",
    "dfAll.show()"
   ]
  },
  {
   "cell_type": "code",
   "execution_count": 37,
   "metadata": {},
   "outputs": [
    {
     "data": {
      "text/plain": [
       "[Row(epoch=1422766992, mode=0), Row(epoch=1422767079, mode=0)]"
      ]
     },
     "execution_count": 37,
     "metadata": {},
     "output_type": "execute_result"
    }
   ],
   "source": [
    "dfTrips = dfAll.select(dfAll['time'].cast('timestamp').cast('long').alias('epoch'), 'mode')\n",
    "dfTrips.take(2)"
   ]
  },
  {
   "cell_type": "code",
   "execution_count": 38,
   "metadata": {},
   "outputs": [],
   "source": [
    "dfTrips.registerTempTable('trips')"
   ]
  },
  {
   "cell_type": "code",
   "execution_count": 64,
   "metadata": {},
   "outputs": [
    {
     "name": "stdout",
     "output_type": "stream",
     "text": [
      "+-------------+\n",
      "|sum(has_taxi)|\n",
      "+-------------+\n",
      "|           65|\n",
      "+-------------+\n",
      "\n"
     ]
    }
   ],
   "source": [
    "statement = '''\n",
    "SELECT sum(has_taxi)\n",
    "FROM (SELECT mode, 1-MIN(mode) OVER \n",
    "                    (ORDER BY epoch RANGE BETWEEN 600 PRECEDING AND CURRENT ROW) \n",
    "                    AS has_taxi\n",
    "        FROM trips) newTrips\n",
    "WHERE mode=1\n",
    "'''\n",
    "sqlContext.sql(statement).show()"
   ]
  },
  {
   "cell_type": "code",
   "execution_count": 57,
   "metadata": {},
   "outputs": [
    {
     "name": "stdout",
     "output_type": "stream",
     "text": [
      "+-------------+\n",
      "|sum(has_taxi)|\n",
      "+-------------+\n",
      "|           65|\n",
      "+-------------+\n",
      "\n"
     ]
    }
   ],
   "source": [
    "import pyspark.sql.functions as sf\n",
    "import pyspark.sql.window as sw\n",
    "window = sw.Window.orderBy('epoch').rangeBetween(-600, 0)\n",
    "results = dfTrips.select('mode', (1-sf.min(dfTrips['mode']).over(window)).alias('has_taxi')) \\\n",
    "    .filter(dfTrips['mode']==1) \\\n",
    "    .select(sf.sum(sf.col('has_taxi')))\n",
    "results.show()"
   ]
  },
  {
   "cell_type": "code",
   "execution_count": null,
   "metadata": {},
   "outputs": [],
   "source": []
  }
 ],
 "metadata": {
  "kernelspec": {
   "display_name": "Python 3",
   "language": "python",
   "name": "python3"
  },
  "language_info": {
   "codemirror_mode": {
    "name": "ipython",
    "version": 3
   },
   "file_extension": ".py",
   "mimetype": "text/x-python",
   "name": "python",
   "nbconvert_exporter": "python",
   "pygments_lexer": "ipython3",
   "version": "3.6.8"
  }
 },
 "nbformat": 4,
 "nbformat_minor": 2
}
