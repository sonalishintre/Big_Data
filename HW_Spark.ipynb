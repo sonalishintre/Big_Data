{
 "cells": [
  {
   "cell_type": "markdown",
   "metadata": {},
   "source": [
    "# Homework 4 - Spark\n",
    "\n",
    "In this homework, we are practicing Apache Spark.\n",
    "\n",
    "You are required to turn in this notebook as BDM\\_HW4\\_Spark\\_**NetId**.ipynb. You will be asked to complete each task using Apache Spark. Output can be printed in the notebook."
   ]
  },
  {
   "cell_type": "markdown",
   "metadata": {},
   "source": [
    "## Task 1 (5 points)\n",
    "\n",
    "You are asked to implement Homework 3 using Spark. The description is provided below for your convenience.\n",
    "\n",
    "You are asked to implement the Social Triangle example discussed in class. In particular, given the email dataset, please list all \"reciprocal\" relationships in the company. Recall that:\n",
    "\n",
    "If A emails B and B emails A, then A and B is *reciprocal*.\n",
    "\n",
    "If A emails B but B doesn’t email A, then A and B is *directed*.\n",
    "\n",
    "**Dataset:** We will use a subset of the open [Enron Email Dataset](https://www.cs.cmu.edu/~./enron/ \"Enron Email Dataset\"), which contains approximately 10,000 simplified email headers from the Enron Corporation. You can download this dataset from NYU Classes as **enron_mails_small.csv**. The file contains 3 columns *Date*, *From*, and *To*. Their description is as follows:\n",
    "\n",
    "|Column name|Description|\n",
    "|--|--|\n",
    "|Date |The date and time of the email, in the format YYYY-MM-DD hh-mm-ss, <br />e.g. \"1998-10-30 07:43:00\" |\n",
    "|From |The sender email address, <br />e.g. \"mark.taylor@enron.com\" |\n",
    "|To | A list of recipients' email addresses separated by semicolons ';', <br />e.g. \"jennifer.fraser@enron.com;jeffrey.hodge@enron.com\" |\n",
    "\n",
    "Note that, we only care about users employed by Enron, or only relationships having email addresses that end with *'@enron.com'*.\n",
    "\n",
    "The expected output is also provided below. For each reciprocal relationship, please output a tuple consisting of two strings. The first one is always **'reciprocal'**. And the second one is a string showing the name of the two person in the following format: **'Jane Doe : John Doe'**. The names should be presented in the lexical order, i.e. there will not be a 'John Doe : Jane Doe' since 'Jane' is ordered before 'John.\n",
    "\n",
    "Though the dataset only contains email addresses, not actual names, we're assuming that the email aliases were created based on their name. For example:\n",
    "\n",
    "|Email Address|Converted Name|\n",
    "|--|--|\n",
    "|mark.taylor@enron.com|Mark Taylor|\n",
    "|alan.aronowitz@enron.com|Alan Aronowitz|\n",
    "|marc.r.cutler@enron.com|Marc R Cutler|\n",
    "|hugh@enron.com|Hugh|\n",
    "\n",
    "Please fill the code block with a series of MapReduce jobs using your own mapper and reducer functions. Be sure to include the naming convention logic into one of your mappers and/or reducers."
   ]
  },
  {
   "cell_type": "code",
   "execution_count": 1,
   "metadata": {},
   "outputs": [
    {
     "data": {
      "text/html": [
       "\n",
       "        <div>\n",
       "            <p><b>SparkContext</b></p>\n",
       "\n",
       "            <p><a href=\"http://DESKTOP-STTP704.home:4053\">Spark UI</a></p>\n",
       "\n",
       "            <dl>\n",
       "              <dt>Version</dt>\n",
       "                <dd><code>v2.4.1</code></dd>\n",
       "              <dt>Master</dt>\n",
       "                <dd><code>local[*]</code></dd>\n",
       "              <dt>AppName</dt>\n",
       "                <dd><code>PySparkShell</code></dd>\n",
       "            </dl>\n",
       "        </div>\n",
       "        "
      ],
      "text/plain": [
       "<SparkContext master=local[*] appName=PySparkShell>"
      ]
     },
     "execution_count": 1,
     "metadata": {},
     "output_type": "execute_result"
    }
   ],
   "source": [
    "sc"
   ]
  },
  {
   "cell_type": "code",
   "execution_count": 7,
   "metadata": {},
   "outputs": [],
   "source": [
    "email='enron_mails_small.csv'"
   ]
  },
  {
   "cell_type": "code",
   "execution_count": 8,
   "metadata": {},
   "outputs": [
    {
     "data": {
      "text/plain": [
       "[(0, 'Date'), (1, 'From'), (2, 'To')]"
      ]
     },
     "execution_count": 8,
     "metadata": {},
     "output_type": "execute_result"
    }
   ],
   "source": [
    "emails=sc.textFile(email).cache()\n",
    "list(enumerate(emails.first().split(\",\")))"
   ]
  },
  {
   "cell_type": "code",
   "execution_count": 14,
   "metadata": {},
   "outputs": [
    {
     "data": {
      "text/plain": [
       "[('recipropcal', 'Brenda Whitehead : Elizabeth Sager'),\n",
       " ('recipropcal', 'Carol Clair : Debra Perlingiere'),\n",
       " ('recipropcal', 'Carol Clair : Mark Taylor'),\n",
       " ('recipropcal', 'Carol Clair : Richard Sanders'),\n",
       " ('recipropcal', 'Carol Clair : Sara Shackleton'),\n",
       " ('recipropcal', 'Carol Clair : Tana Jones'),\n",
       " ('recipropcal', 'Debra Perlingiere : Kevin Ruscitti'),\n",
       " ('recipropcal', 'Drew Fossum : Susan Scott'),\n",
       " ('recipropcal', 'Elizabeth Sager : Janette Elbertson'),\n",
       " ('recipropcal', 'Elizabeth Sager : Mark Haedicke'),\n",
       " ('recipropcal', 'Elizabeth Sager : Mark Taylor'),\n",
       " ('recipropcal', 'Elizabeth Sager : Richard Sanders'),\n",
       " ('recipropcal', 'Eric Bass : Susan Scott'),\n",
       " ('recipropcal', 'Fletcher Sturm : Greg Whalley'),\n",
       " ('recipropcal', 'Fletcher Sturm : Sally Beck'),\n",
       " ('recipropcal', 'Gerald Nemec : Susan Scott'),\n",
       " ('recipropcal', 'Grant Masson : Vince Kaminski'),\n",
       " ('recipropcal', 'Greg Whalley : Richard Sanders'),\n",
       " ('recipropcal', 'Janette Elbertson : Mark Taylor'),\n",
       " ('recipropcal', 'Janette Elbertson : Richard Sanders'),\n",
       " ('recipropcal', 'Liz Taylor : Mark Haedicke'),\n",
       " ('recipropcal', 'Mark Haedicke : Mark Taylor'),\n",
       " ('recipropcal', 'Mark Haedicke : Michelle Cash'),\n",
       " ('recipropcal', 'Mark Haedicke : Richard Sanders'),\n",
       " ('recipropcal', 'Mark Haedicke : Twanda Sweet'),\n",
       " ('recipropcal', 'Mark Taylor : Sara Shackleton'),\n",
       " ('recipropcal', 'Mark Taylor : Tana Jones'),\n",
       " ('recipropcal', 'Michelle Cash : Twanda Sweet'),\n",
       " ('recipropcal', 'Pinnamaneni Krishnarao : Vince Kaminski'),\n",
       " ('recipropcal', 'Richard Sanders : Sara Shackleton'),\n",
       " ('recipropcal', 'Rosalee Fleming : Steven Kean'),\n",
       " ('recipropcal', 'Sara Shackleton : Tana Jones'),\n",
       " ('recipropcal', 'Shirley Crenshaw : Vince Kaminski'),\n",
       " ('recipropcal', 'Stinson Gibner : Vince Kaminski'),\n",
       " ('recipropcal', 'Vasant Shanbhogue : Vince Kaminski')]"
      ]
     },
     "execution_count": 14,
     "metadata": {},
     "output_type": "execute_result"
    }
   ],
   "source": [
    "def findmail(x):\n",
    "    row = []\n",
    "    for string in x.replace('@enron.com','').split('.'):\n",
    "        row.append(string.capitalize())\n",
    "    return \" \".join(row)\n",
    "\n",
    "def extractdata(pid,rows):\n",
    "    if pid == 0:\n",
    "        next(rows)\n",
    "    import csv\n",
    "    for count in csv.reader(rows):\n",
    "        if '@enron.com' not in count[1] :\n",
    "            continue\n",
    "        from_ = findmail(count[1])\n",
    "        for x in count[2].split(';'):\n",
    "            if '@enron.com' in x :\n",
    "                yield (from_,findmail(x))\n",
    "                \n",
    "\n",
    "def reducer1(count):\n",
    "    return (count[1],count[0])\n",
    "\n",
    "def filterkey(count):\n",
    "    if count[0]>=count[1]:\n",
    "        return ((count[1],count[0]),1)\n",
    "    if count[0]<count[1]:\n",
    "        return ((count[0],count[1]),1)\n",
    "    \n",
    "def combine(count):\n",
    "    return ('recipropcal',(\" : \").join(count))\n",
    "        \n",
    "        \n",
    "rdd = emails.mapPartitionsWithIndex(extractdata).distinct()\n",
    "rdd2 = rdd.map(reducer1)\n",
    "result = rdd2.intersection(rdd).map(filterkey).distinct()\\\n",
    "            .sortByKey().filter(lambda x : x[0][0] !=x[0][1]).keys().map(combine)\n",
    "result.take(40)\n",
    "    "
   ]
  },
  {
   "cell_type": "markdown",
   "metadata": {},
   "source": [
    "## Task 2 (5 points)\n",
    "\n",
    "You are asked to implement Task 2 of Lab 5. The description is provided below for your convenience.\n",
    "\n",
    "We’ll be using two NYC open data sets: the SAT Results and the NYC High School Directory data sets. Both can be downloaded from the links below, or from online class resources.\n",
    "\n",
    "**Dataset**: *Please note that each school is uniquely identified by an DBN code, which should be found on both data sets.*\n",
    "\n",
    "**SAT_Results.csv**\n",
    "Source: https://nycopendata.socrata.com/Education/SAT-Results/f9bf-2cp4  \n",
    "Description: “The most recent school level results for New York City on the SAT. Results are available at the school level for the graduating seniors of 2012.”\n",
    "\n",
    "**DOE_High_School_Directory_2014-2015.csv**\n",
    "Source: https://data.cityofnewyork.us/Education/DOE-High-School-Directory-2014-2015/n3p6-zve2  \n",
    "Description: “Directory of NYC High Schools.”\n",
    "\n",
    "We would like to know how the Math scores vary across bus lines or subway lines serving the schools. Your task is to compute the average Math scores of all schools along each bus line and subway line. You can find the bus and subway lines serving each school in the High School Dictionary as bus and subway columns.\n",
    "\n",
    "The expected results are two lists:\n",
    "1. A list of key/value pairs: with bus line as keys, and the average Math scores as values.\n",
    "2. A list of key/value pairs: with subway line as keys, and the average Math scores as values.\n",
    "\n",
    "The top ten lines with highest score are shown below."
   ]
  },
  {
   "cell_type": "code",
   "execution_count": 12,
   "metadata": {},
   "outputs": [],
   "source": [
    "import pyspark"
   ]
  },
  {
   "cell_type": "code",
   "execution_count": 13,
   "metadata": {},
   "outputs": [],
   "source": [
    "SAT_FN='SAT_Results.csv '\n",
    "HSD_FN='DOE_High_School_Directory_2014-2015.csv '"
   ]
  },
  {
   "cell_type": "code",
   "execution_count": 15,
   "metadata": {},
   "outputs": [
    {
     "data": {
      "text/plain": [
       "[(0, 'DBN'),\n",
       " (1, 'SCHOOL NAME'),\n",
       " (2, 'Num of SAT Test Takers'),\n",
       " (3, 'SAT Critical Reading Avg. Score'),\n",
       " (4, 'SAT Math Avg. Score'),\n",
       " (5, 'SAT Writing Avg. Score')]"
      ]
     },
     "execution_count": 15,
     "metadata": {},
     "output_type": "execute_result"
    }
   ],
   "source": [
    "sat=sc.textFile(SAT_FN).cache()\n",
    "list(enumerate(sat.first().split(\",\")))"
   ]
  },
  {
   "cell_type": "code",
   "execution_count": 72,
   "metadata": {},
   "outputs": [
    {
     "data": {
      "text/plain": [
       "[('02M047', (16, 400)),\n",
       " ('21K410', (475, 437)),\n",
       " ('30Q301', (98, 440)),\n",
       " ('17K382', (59, 374)),\n",
       " ('18K637', (35, 381))]"
      ]
     },
     "execution_count": 72,
     "metadata": {},
     "output_type": "execute_result"
    }
   ],
   "source": [
    "def extractScore(pid, rows):\n",
    "    if pid == 0:\n",
    "        next(rows)\n",
    "    import csv\n",
    "    for fields in csv.reader(rows):\n",
    "        if fields[2]!='s': \n",
    "            yield(fields[0],(int(fields[2]),int(fields[4])))\n",
    "\n",
    "            #yield(fields[0],(int(fields[2]),int(fields[4])*int(fields[2])))\n",
    "\n",
    "satScores = sat.mapPartitionsWithIndex(extractScore)\n",
    "satScores.take(5)"
   ]
  },
  {
   "cell_type": "code",
   "execution_count": 53,
   "metadata": {},
   "outputs": [],
   "source": [
    "schools = sc.textFile(HSD_FN).cache()\n",
    "#list(enumerate(schools.first().split(\",\")))"
   ]
  },
  {
   "cell_type": "code",
   "execution_count": 35,
   "metadata": {},
   "outputs": [
    {
     "data": {
      "text/plain": [
       "[('01M292', 'B39'),\n",
       " ('01M292', ' M14A'),\n",
       " ('01M292', ' M14D'),\n",
       " ('01M292', ' M15'),\n",
       " ('01M292', ' M15-SBS')]"
      ]
     },
     "execution_count": 35,
     "metadata": {},
     "output_type": "execute_result"
    }
   ],
   "source": [
    "def extractbus(pid, rows):\n",
    "    if pid == 0:\n",
    "        next(rows)\n",
    "    import csv\n",
    "    for fields in csv.reader(rows):\n",
    "        if len(fields)==58:\n",
    "             for bus_line in fields[10].split(','):    \n",
    "                yield(fields[0],bus_line)\n",
    "schools_bus = schools.mapPartitionsWithIndex(extractbus) \\\n",
    "                .map(lambda x: (x[0],x[1]))\n",
    "\n",
    "schools_bus.take(5)"
   ]
  },
  {
   "cell_type": "code",
   "execution_count": 56,
   "metadata": {},
   "outputs": [
    {
     "data": {
      "text/plain": [
       "[('01M292', 'B'),\n",
       " ('01M292', ' D to Grand St '),\n",
       " ('01M292', ' F to East Broadway '),\n",
       " ('01M292', ' J'),\n",
       " ('01M292', ' M')]"
      ]
     },
     "execution_count": 56,
     "metadata": {},
     "output_type": "execute_result"
    }
   ],
   "source": [
    "def extractsubway(pid, rows):\n",
    "    if pid == 0:\n",
    "        next(rows)\n",
    "    import csv\n",
    "    for fields in csv.reader(rows):\n",
    "        if len(fields)==58:\n",
    "             for subway_line in fields[11].split(','):    \n",
    "                if len(subway_line.split(';')) > 1:\n",
    "                    for s_line in subway_line.split(';'):\n",
    "                        yield(fields[0],s_line)\n",
    "                else:\n",
    "                    yield(fields[0],subway_line)\n",
    "schools_subway = schools.mapPartitionsWithIndex(extractsubway) \\\n",
    "                .map(lambda x: (x[0],x[1]))\n",
    "\n",
    "schools_subway.take(5)"
   ]
  },
  {
   "cell_type": "code",
   "execution_count": 49,
   "metadata": {},
   "outputs": [
    {
     "name": "stdout",
     "output_type": "stream",
     "text": [
      "+------+--------------------+--------------------+\n",
      "|   dbn|                 bus|              subway|\n",
      "+------+--------------------+--------------------+\n",
      "|01M450|M101, M102, M103,...|6 to Astor Place ...|\n",
      "|01M539|B39, M14A, M14D, ...|F, J, M, Z to Del...|\n",
      "|01M696|M14A, M14D, M21, ...|                 N/A|\n",
      "|02M374|M101, M102, M103,...|1, 2, 3, F, M to ...|\n",
      "|02M400|M10, M104, M11, M...|1, A, B, C, D to ...|\n",
      "|02M408|M10, M104, M11, M...|1, C, E to 50th S...|\n",
      "|02M412|M11, M14A, M14D, ...|1 to 18th St ; 2,...|\n",
      "|02M413|M101, M102, M14A,...|4, 5, L, Q to 14t...|\n",
      "|02M416|M101, M102, M15, ...|        6 to 77th St|\n",
      "|02M418|M15, M15-SBS, M20...|1, R to Whitehall...|\n",
      "|02M420|M101, M102, M103,...|4, 5, 6, N, Q, R ...|\n",
      "|02M425|M103, M15, M15-SB...|1, R to Rector St...|\n",
      "|02M475|M20, M22, M5, M9,...|1, 2, 3, A, C, E ...|\n",
      "|02M489|M103, M15, M15-SB...|1 to Rector St ; ...|\n",
      "|02M519|M101, M102, M15, ...|4, 5, N, Q, R to ...|\n",
      "|02M520|M103, M15, M22, M...|1 to Chambers St ...|\n",
      "|02M529|M104, M11, M2, M2...|1, 2, 3, G, S to ...|\n",
      "|02M542|M104, M11, M31, M...|     C, E to 50th St|\n",
      "|02M580|M15, M15-SBS, M20...|1, R to Rector St...|\n",
      "|02M600|M11, M14D, M20, M...|1, C, E, F, M to ...|\n",
      "+------+--------------------+--------------------+\n",
      "only showing top 20 rows\n",
      "\n"
     ]
    }
   ],
   "source": [
    "df = spark.read.load(HSD_FN, format= 'csv',header = True, inferSchema = True)\n",
    "df = df.filter(df['total_students']>500)\\\n",
    "        .select('dbn','bus','subway')\n",
    "\n",
    "df.show()"
   ]
  },
  {
   "cell_type": "code",
   "execution_count": 77,
   "metadata": {},
   "outputs": [
    {
     "data": {
      "text/plain": [
       "[('M14A', 529),\n",
       " (' M22', 574),\n",
       " (' M14A', 468),\n",
       " (' M23', 462),\n",
       " (' M42', 410),\n",
       " (' M50', 438),\n",
       " (' M4', 442),\n",
       " ('M103', 453),\n",
       " (' M34-SBS', 417),\n",
       " (' M100', 427),\n",
       " (' M116', 467),\n",
       " (' Bx40', 400),\n",
       " (' Bx42', 400),\n",
       " (' Bx2', 470),\n",
       " (' Bx21', 389),\n",
       " (' Bx41', 388),\n",
       " (' Bx4A', 391),\n",
       " (' Bx6', 400),\n",
       " (' Bx13', 386),\n",
       " (' Bx18', 380)]"
      ]
     },
     "execution_count": 77,
     "metadata": {},
     "output_type": "execute_result"
    }
   ],
   "source": [
    "bus = schools_bus.join(satScores) \\\n",
    "            .values() \\\n",
    "            .mapValues(lambda x: (x[0], x[0]*x[1])) \\\n",
    "            .reduceByKey(lambda x,y: (x[0]+y[0], x[1] + y[1])) \\\n",
    "            .mapValues(lambda x: x[1]//x[0]) \\\n",
    "            .collect()\n",
    "\n",
    "bus[:20]\n"
   ]
  },
  {
   "cell_type": "code",
   "execution_count": 78,
   "metadata": {},
   "outputs": [
    {
     "data": {
      "text/plain": [
       "[('F to East Broadway ', 423),\n",
       " (' M', 456),\n",
       " (' L to 1st Ave', 443),\n",
       " (' E to 50th St', 386),\n",
       " (' R to Whitehall St-South Ferry ', 471)]"
      ]
     },
     "execution_count": 78,
     "metadata": {},
     "output_type": "execute_result"
    }
   ],
   "source": [
    "subway = schools_subway.join(satScores) \\\n",
    "            .values() \\\n",
    "            .mapValues(lambda x: (x[0], x[0]*x[1])) \\\n",
    "            .reduceByKey(lambda x,y: (x[0]+y[0], x[1] + y[1])) \\\n",
    "            .mapValues(lambda x: x[1]//x[0]) \\\n",
    "            .collect()\n",
    "\n",
    "subway[:5]"
   ]
  },
  {
   "cell_type": "code",
   "execution_count": null,
   "metadata": {},
   "outputs": [],
   "source": []
  }
 ],
 "metadata": {
  "kernelspec": {
   "display_name": "Python 3",
   "language": "python",
   "name": "python3"
  },
  "language_info": {
   "codemirror_mode": {
    "name": "ipython",
    "version": 3
   },
   "file_extension": ".py",
   "mimetype": "text/x-python",
   "name": "python",
   "nbconvert_exporter": "python",
   "pygments_lexer": "ipython3",
   "version": "3.6.8"
  }
 },
 "nbformat": 4,
 "nbformat_minor": 1
}
