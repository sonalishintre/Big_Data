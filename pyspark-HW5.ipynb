{
 "cells": [
  {
   "cell_type": "code",
   "execution_count": 1,
   "metadata": {},
   "outputs": [
    {
     "data": {
      "text/html": [
       "\n",
       "        <div>\n",
       "            <p><b>SparkContext</b></p>\n",
       "\n",
       "            <p><a href=\"http://DESKTOP-STTP704.home:4046\">Spark UI</a></p>\n",
       "\n",
       "            <dl>\n",
       "              <dt>Version</dt>\n",
       "                <dd><code>v2.3.3</code></dd>\n",
       "              <dt>Master</dt>\n",
       "                <dd><code>local[*]</code></dd>\n",
       "              <dt>AppName</dt>\n",
       "                <dd><code>PySparkShell</code></dd>\n",
       "            </dl>\n",
       "        </div>\n",
       "        "
      ],
      "text/plain": [
       "<SparkContext master=local[*] appName=PySparkShell>"
      ]
     },
     "execution_count": 1,
     "metadata": {},
     "output_type": "execute_result"
    }
   ],
   "source": [
    "sc"
   ]
  },
  {
   "cell_type": "code",
   "execution_count": 2,
   "metadata": {},
   "outputs": [
    {
     "data": {
      "text/plain": [
       "[('Manhattan',\n",
       "  [(55792, 'Upper East Side'),\n",
       "   (49865, 'Midtown'),\n",
       "   (38621, 'Upper West Side')]),\n",
       " ('Brooklyn',\n",
       "  [(7269, 'Williamsburg'),\n",
       "   (2396, 'Bedford-Stuyvesant'),\n",
       "   (2280, 'Greenpoint')]),\n",
       " ('Queens',\n",
       "  [(3802, 'LaGuardia Airport'),\n",
       "   (3621, 'Long Island City'),\n",
       "   (3571, 'Astoria')]),\n",
       " ('Bronx', [(344, 'Mott Haven'), (232, 'Longwood'), (193, 'Kingsbridge')]),\n",
       " ('Staten Island', [(7, 'Concord'), (5, 'West Brighton'), (5, 'South Beach')])]"
      ]
     },
     "execution_count": 2,
     "metadata": {},
     "output_type": "execute_result"
    }
   ],
   "source": [
    "def processTrips(pid, records):\n",
    "    import os\n",
    "    os.environ[\"PROJ_LIB\"] = 'C:\\\\Users\\\\sonali\\\\Anaconda3\\\\Library\\\\share'\n",
    "    import csv\n",
    "    import pyproj\n",
    "    import shapely.geometry as geom\n",
    "    import geopandas as gpd\n",
    "    import fiona\n",
    "    import fiona.crs\n",
    "    import rtree\n",
    "\n",
    "    neighbors = gpd.read_file('neighborhoods.geojson').to_crs(fiona.crs.from_epsg(2263))\n",
    "\n",
    "    index = rtree.Rtree()\n",
    "    for idx,geometry in enumerate(neighbors.geometry):\n",
    "        index.insert(idx, geometry.bounds)\n",
    "\n",
    "    proj = pyproj.Proj(init=\"epsg:2263\", preserve_units=True)\n",
    "\n",
    "    if pid==0:\n",
    "        next(records)\n",
    "\n",
    "    reader = csv.reader(records)\n",
    "    for row in reader:\n",
    "        try:\n",
    "            p = geom.Point(proj(float(row[5]), float(row[4])))\n",
    "            for idx in index.intersection((p.x, p.y, p.x, p.y)):\n",
    "                if neighbors.geometry[idx].contains(p):\n",
    "                    borough = neighbors.borough[idx]\n",
    "            if borough:\n",
    "                q = geom.Point(proj(float(row[3]), float(row[2])))\n",
    "                for idx in index.intersection((p.x, p.y, p.x, p.y)):\n",
    "                    if neighbors.geometry[idx].contains(p):\n",
    "                         neighborhood = neighbors.neighborhood[idx]\n",
    "            if neighborhood and borough:\n",
    "                yield((neighborhood,borough),1)\n",
    "        except:\n",
    "            pass\n",
    "\n",
    "rdd = sc.textFile('yellow.csv')\n",
    "result5 =rdd.mapPartitionsWithIndex(processTrips)\\\n",
    "              .reduceByKey(lambda x,y: x+y)\\\n",
    "              .map(lambda x: (x[0][1], (x[1],x[0][0]))).groupByKey()\\\n",
    "              .map(lambda x: (x[0],sorted(x[1],reverse= True)))\\\n",
    "              .map(lambda x: (x[0],x[1][:3]))\n",
    "\n",
    "result5.take(5)\n"
   ]
  },
  {
   "cell_type": "code",
   "execution_count": null,
   "metadata": {},
   "outputs": [],
   "source": []
  },
  {
   "cell_type": "code",
   "execution_count": null,
   "metadata": {},
   "outputs": [],
   "source": []
  }
 ],
 "metadata": {
  "kernelspec": {
   "display_name": "Python 3",
   "language": "python",
   "name": "python3"
  },
  "language_info": {
   "codemirror_mode": {
    "name": "ipython",
    "version": 3
   },
   "file_extension": ".py",
   "mimetype": "text/x-python",
   "name": "python",
   "nbconvert_exporter": "python",
   "pygments_lexer": "ipython3",
   "version": "3.6.8"
  }
 },
 "nbformat": 4,
 "nbformat_minor": 2
}
